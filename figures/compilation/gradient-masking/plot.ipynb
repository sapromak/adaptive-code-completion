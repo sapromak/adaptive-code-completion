{
 "cells": [
  {
   "cell_type": "code",
   "execution_count": 4,
   "id": "initial_id",
   "metadata": {
    "ExecuteTime": {
     "end_time": "2025-03-25T12:55:30.789925Z",
     "start_time": "2025-03-25T12:55:30.787313Z"
    },
    "collapsed": true
   },
   "outputs": [],
   "source": [
    "import numpy as np\n",
    "import pandas as pd\n",
    "from scipy.stats import ttest_rel\n",
    "\n",
    "import seaborn as sns\n",
    "import matplotlib.pyplot as plt\n",
    "from matplotlib import rc"
   ]
  },
  {
   "cell_type": "code",
   "execution_count": 5,
   "id": "c382638f0ec4e27e",
   "metadata": {
    "ExecuteTime": {
     "end_time": "2025-03-25T12:55:30.824771Z",
     "start_time": "2025-03-25T12:55:30.821716Z"
    }
   },
   "outputs": [],
   "source": [
    "rc('font', **{'family': 'serif', 'serif': ['Computer Modern']})\n",
    "rc('text', usetex=True)\n",
    "sns.set_style('white')"
   ]
  },
  {
   "cell_type": "code",
   "execution_count": 68,
   "id": "38b4f845",
   "metadata": {},
   "outputs": [],
   "source": [
    "rq_a2_df = pd.read_csv('rq-a2-gradient-masking.csv')\n",
    "rq_b_df = pd.read_csv('rq-b-gradient-masking.csv')"
   ]
  },
  {
   "cell_type": "code",
   "execution_count": 69,
   "id": "6ca1815a",
   "metadata": {},
   "outputs": [],
   "source": [
    "rq_a2_df = rq_a2_df[~rq_a2_df.eval_name.str.contains('duplication')]\n",
    "rq_b_df = rq_b_df[~rq_b_df.eval_name.str.contains('duplication')]"
   ]
  },
  {
   "cell_type": "code",
   "execution_count": 70,
   "id": "f3a9d4ba",
   "metadata": {},
   "outputs": [],
   "source": [
    "rq_a2_df_masked = rq_a2_df[rq_a2_df.is_masked]\n",
    "rq_a2_df_masked.loc[:, 'eval_name'] = rq_a2_df_masked.eval_name.str.replace('_2', '')\n",
    "rq_a2_df_masked = rq_a2_df_masked.drop(columns=['is_masked', 'is_contaminated'])\n",
    "rq_a2_df_masked = rq_a2_df_masked.set_index(['eval_name', 'composer_type'])\n",
    "\n",
    "rq_a2_df_full = rq_a2_df[~rq_a2_df.is_masked]\n",
    "rq_a2_df_full = rq_a2_df_full.drop(columns=['is_masked', 'is_contaminated'])\n",
    "rq_a2_df_full = rq_a2_df_full.set_index(['eval_name', 'composer_type'])\n",
    "\n",
    "assert all(rq_a2_df_masked.index == rq_a2_df_full.index)"
   ]
  },
  {
   "cell_type": "code",
   "execution_count": 71,
   "id": "154f0efd",
   "metadata": {},
   "outputs": [],
   "source": [
    "rq_b_df_masked = rq_b_df[rq_b_df.is_masked]\n",
    "rq_b_df_masked.loc[:, 'eval_name'] = rq_b_df_masked.eval_name.str.replace('_2', '')\n",
    "rq_b_df_masked = rq_b_df_masked.drop(columns=['is_masked', 'is_contaminated'])\n",
    "rq_b_df_masked = rq_b_df_masked.set_index(['eval_name', 'composer_type'])\n",
    "\n",
    "rq_b_df_full = rq_b_df[~rq_b_df.is_masked]\n",
    "rq_b_df_full = rq_b_df_full.drop(columns=['is_masked', 'is_contaminated'])\n",
    "rq_b_df_full = rq_b_df_full.set_index(['eval_name', 'composer_type'])\n",
    "\n",
    "assert all(rq_b_df_masked.index == rq_b_df_full.index)"
   ]
  },
  {
   "cell_type": "code",
   "execution_count": 95,
   "id": "8e2e86ac",
   "metadata": {},
   "outputs": [],
   "source": [
    "masked_ems = np.concatenate([rq_a2_df_masked.values.flatten(), rq_b_df_masked.values.flatten()]) * 100\n",
    "full_ems = np.concatenate([rq_a2_df_full.values.flatten(), rq_b_df_full.values.flatten()]) * 100\n",
    "deltas = masked_ems - full_ems"
   ]
  },
  {
   "cell_type": "code",
   "execution_count": 96,
   "id": "eac696da",
   "metadata": {},
   "outputs": [
    {
     "data": {
      "text/plain": [
       "TtestResult(statistic=np.float64(-4.306031970891044), pvalue=np.float64(1.900573508685745e-05), df=np.int64(103))"
      ]
     },
     "execution_count": 96,
     "metadata": {},
     "output_type": "execute_result"
    }
   ],
   "source": [
    "ttest_rel(masked_ems, full_ems, alternative='less')"
   ]
  },
  {
   "cell_type": "code",
   "execution_count": 97,
   "id": "49686771",
   "metadata": {},
   "outputs": [
    {
     "data": {
      "text/plain": [
       "(np.float64(3.044315992292873), np.float64(-0.3514593132684269))"
      ]
     },
     "execution_count": 97,
     "metadata": {},
     "output_type": "execute_result"
    }
   ],
   "source": [
    "abs(deltas).max(), deltas.mean()"
   ]
  },
  {
   "cell_type": "code",
   "execution_count": 99,
   "id": "f802dd459ec72ff2",
   "metadata": {
    "ExecuteTime": {
     "end_time": "2025-03-25T13:18:19.658295Z",
     "start_time": "2025-03-25T13:18:19.384282Z"
    }
   },
   "outputs": [
    {
     "data": {
      "image/png": "[encoded data removed]",
      "text/plain": [
       "<Figure size 1000x625 with 1 Axes>"
      ]
     },
     "metadata": {},
     "output_type": "display_data"
    }
   ],
   "source": [
    "_, ax = plt.subplots(figsize=(10, 6.25))\n",
    "\n",
    "ax.spines['right'].set_visible(False)\n",
    "ax.spines['top'].set_visible(False)\n",
    "\n",
    "sns.histplot(deltas,\n",
    "             bins=12,\n",
    "             color='#bcdcfc',\n",
    "             ax=ax)\n",
    "# ax.set_title('Gradient masking influence on Exact Match', fontsize=16)\n",
    "ax.set_xlabel('Gradient masking influence on Exact Match', fontsize=16)\n",
    "ax.set_ylabel('Number of trained models', fontsize=16)\n",
    "zero_line = ax.axvline(x=0, color='#fccc9c', linestyle='--', linewidth=2)\n",
    "mean_line = ax.axvline(x=deltas.mean(), color='#b1dd9f', linestyle='--', linewidth=2)\n",
    "ax.legend([zero_line, mean_line], ['Zero deviation', 'Average deviation'], loc='upper left', fontsize=12.5)\n",
    "\n",
    "# ax.set_xlim((-1, 1))\n",
    "ax.grid(axis='y', alpha=0.7)\n",
    "ax.tick_params(axis='both', labelsize=13)\n",
    "\n",
    "plt.savefig('gradient-masking.png', dpi=300, bbox_inches='tight')\n",
    "plt.savefig('gradient-masking.svg', format='svg', bbox_inches='tight')"
   ]
  },
  {
   "cell_type": "code",
   "execution_count": null,
   "id": "cdae6f4d",
   "metadata": {},
   "outputs": [],
   "source": []
  }
 ],
 "metadata": {
  "kernelspec": {
   "display_name": ".venv",
   "language": "python",
   "name": "python3"
  },
  "language_info": {
   "codemirror_mode": {
    "name": "ipython",
    "version": 3
   },
   "file_extension": ".py",
   "mimetype": "text/x-python",
   "name": "python",
   "nbconvert_exporter": "python",
   "pygments_lexer": "ipython3",
   "version": "3.11.11"
  }
 },
 "nbformat": 4,
 "nbformat_minor": 5
}
